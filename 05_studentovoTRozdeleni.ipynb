{
 "cells": [
  {
   "cell_type": "markdown",
   "metadata": {},
   "source": [
    "Studentovo T-rozdělení je podobné normálnímu rozdělení, ale je rozkročenější a má vyšší minimum \\\n",
    "Je tabelované. \\\n",
    "\n",
    "Pokud mám více jak 30 vzorků, můžu čekat, že budou z-distribuované, tedy dle normálního rozdělení (dostatečně velký vzorek )\\\n",
    "Při malém vzorku ale normální rozdělení nemohu čekat, namísto toho můžu očekávat Studentovo rozdělení."
   ]
  },
  {
   "cell_type": "markdown",
   "metadata": {},
   "source": [
    "\\begin{align*}\n",
    "t_{n-1, \\alpha} =  \\frac{\\bar{x} - \\mu}{StdErr_{sample}} = \\frac{\\bar{x} - \\mu}{\\frac{\\sigma}{\\sqrt{n}}}\n",
    "\\end{align*}\n",
    "\n",
    "t_n-1: n-1 stupňů volnosti \\\n",
    "Pro 20 vzorků je 19 DOF"
   ]
  },
  {
   "cell_type": "markdown",
   "metadata": {},
   "source": [
    "Průměrná váha 20 studentů ve škole je 80 kg se smodch 4.5 kg. \\\n",
    "Sestav 95% důvěrnostní interval pro průměr populace \\\n",
    "Odhadni chybu tohoto intervalu \\\n",
    "\\\n",
    "Jelikož bereme 20 studentů, tak to není populace, ale vzorek. \\\n",
    "Pozor: teĎ nepoužíváme CL, ale 1-CL \\\n",
    "pomůžeme si scipym"
   ]
  },
  {
   "cell_type": "code",
   "execution_count": 13,
   "metadata": {},
   "outputs": [
    {
     "name": "stdout",
     "output_type": "stream",
     "text": [
      "t_0.95<19> = 2.093024054408263\n",
      "EBM<mean> = 2.1060648288895925\n",
      "Confidence interval = 80 ± 2.1060648288895925\n"
     ]
    }
   ],
   "source": [
    "from scipy.stats import t as studentTDistro\n",
    "samples:            int = 20\n",
    "sampleMeanWeight:   int = 80\n",
    "sampleStdev:        float = 4.5\n",
    "\n",
    "degreesOfFreedom:   int = samples - 1\n",
    "confidenceLevel:    float = 0.95\n",
    "\n",
    "#alpha\n",
    "significance:       float = 1 - confidenceLevel \n",
    "\n",
    "alphaValue_doubleTail: float = significance/2\n",
    "# proč 1-? scipy to má naopak...\n",
    "tValue_0025: float = studentTDistro.ppf(1-alphaValue_doubleTail, df=degreesOfFreedom)\n",
    "print(f\"t_0.95<{degreesOfFreedom}> = {tValue_0025}\")\n",
    "\n",
    "ErrorBoundMean: float = tValue_0025 * (sampleStdev/(samples)**0.5)\n",
    "print(f\"EBM<mean> = {ErrorBoundMean}\")\n",
    "print(f\"Confidence interval = {sampleMeanWeight} ± {ErrorBoundMean}\")"
   ]
  },
  {
   "cell_type": "markdown",
   "metadata": {},
   "source": [
    "Na chemii chodí 500 lidí na univerzitě. Vzorku 10 žáků bylo změřeno score.\\\n",
    "a) průměr vzorku a smodch vzorku? \\\n",
    "b) EBM pro průměr? \\\n",
    "c) 90% CI? \\\n",
    "\n",
    "skore: 76, 84, 69, 92, 58, 89, 73, 97, 85, 77"
   ]
  },
  {
   "cell_type": "code",
   "execution_count": 18,
   "metadata": {},
   "outputs": [
    {
     "name": "stdout",
     "output_type": "stream",
     "text": [
      "sample mean = 80.0\n",
      "sample stdev = 11.709445380166864\n",
      "t_0.90<9> = 1.8331129326536333\n",
      "EBM = 6.787745437711595\n",
      "Confidence interval = 80.0 ± 6.787745437711595\n"
     ]
    }
   ],
   "source": [
    "from typing import Sequence\n",
    "students:           int = 500\n",
    "samples:            int = 10\n",
    "degreesOfFreedom:   int = samples-1\n",
    "\n",
    "scores: Sequence[int] = 76, 84, 69, 92, 58, 89, 73, 97, 85, 77\n",
    "confidenceLEvel: float = 0.90\n",
    "\n",
    "#a\n",
    "sampleMean: float = sum(scores)/len(scores)\n",
    "sampleStdev: float = (sum(((studentScore-sampleMean)**2 for studentScore in scores))/degreesOfFreedom)**0.5\n",
    "print(f\"sample mean = {sampleMean}\")\n",
    "print(f\"sample stdev = {sampleStdev}\")\n",
    "\n",
    "\n",
    "#b\n",
    "significance: float = 1 - confidenceLEvel\n",
    "alphaValue_doubleTail: float = significance/2\n",
    "tValue_005: float = studentTDistro.ppf(1-alphaValue_doubleTail, df=degreesOfFreedom)\n",
    "ErrorBoundMean: float = tValue_005 * (sampleStdev/(samples)**0.5)\n",
    "print(f\"t_0.90<{degreesOfFreedom}> = {tValue_005}\")\n",
    "print(f\"EBM = {ErrorBoundMean}\")\n",
    "print(f\"Confidence interval = {sampleMean} ± {ErrorBoundMean}\")"
   ]
  }
 ],
 "metadata": {
  "kernelspec": {
   "display_name": "Python 3",
   "language": "python",
   "name": "python3"
  },
  "language_info": {
   "codemirror_mode": {
    "name": "ipython",
    "version": 3
   },
   "file_extension": ".py",
   "mimetype": "text/x-python",
   "name": "python",
   "nbconvert_exporter": "python",
   "pygments_lexer": "ipython3",
   "version": "3.11.8"
  }
 },
 "nbformat": 4,
 "nbformat_minor": 2
}
