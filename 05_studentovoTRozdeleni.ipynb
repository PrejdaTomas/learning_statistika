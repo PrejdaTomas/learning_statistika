{
 "cells": [
  {
   "cell_type": "markdown",
   "metadata": {},
   "source": [
    "Studentovo T-rozdělení je podobné normálnímu rozdělení, ale je rozkročenější a má vyšší minimum \\\n",
    "Je tabelované. \\\n",
    "\n",
    "Pokud mám více jak 30 vzorků, můžu čekat, že budou z-distribuované, tedy dle normálního rozdělení (dostatečně velký vzorek )\\\n",
    "Při malém vzorku ale normální rozdělení nemohu čekat, namísto toho můžu očekávat Studentovo rozdělení."
   ]
  },
  {
   "cell_type": "markdown",
   "metadata": {},
   "source": [
    "\\begin{align*}\n",
    "t_{n-1, \\alpha} =  \\frac{\\bar{x} - \\mu}{StdErr_{sample}} = \\frac{\\bar{x} - \\mu}{\\frac{\\sigma}{\\sqrt{n}}}\n",
    "\\end{align*}\n",
    "\n",
    "t_n-1: n-1 stupňů volnosti \\\n",
    "Pro 20 vzorků je 19 DOF"
   ]
  },
  {
   "cell_type": "markdown",
   "metadata": {},
   "source": [
    "Průměrná váha 20 studentů ve škole je 80 kg se smodch 4.5 kg. \\\n",
    "Sestav 95% důvěrnostní interval pro průměr populace \\\n",
    "Odhadni chybu tohoto intervalu \\\n",
    "\\\n",
    "Jelikož bereme 20 studentů, tak to není populace, ale vzorek. \\\n",
    "pomůžeme si scipym"
   ]
  },
  {
   "cell_type": "code",
   "execution_count": null,
   "metadata": {},
   "outputs": [],
   "source": [
    "from scipy.st import \n",
    "samples:            int = 20\n",
    "sampleMeanWeight:   int = 80\n",
    "sampleStdev:        float = 4.5\n",
    "\n",
    "degreesOfFreedom:   int = samples - 1\n",
    "confidenceLevel:    float = 0.95\n",
    "\n",
    "alphaValue_doubleTail: float = (1+confidenceLevel)/2\n",
    "\n",
    "tValue_095: float = "
   ]
  }
 ],
 "metadata": {
  "language_info": {
   "name": "python"
  }
 },
 "nbformat": 4,
 "nbformat_minor": 2
}
