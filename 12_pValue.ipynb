{
 "cells": [
  {
   "cell_type": "markdown",
   "metadata": {},
   "source": [
    "P-hodnota při testování nulové hypotézy vyřadí nulovou hypotézu, je-li standardně nižší než 5 % (p < 0.05 => hodnoty nejsou stejné, neadherují nulté hypotéze)\\\n",
    "Má 3 složky\n",
    "1) pravděpodobnost, že náhodná šance povede k pozorovatelnému cíli\n",
    "2) pravděpodobnost, že uvidíme něco jiného, co je stejně vzácné jako hlavní cíl\n",
    "3) pravděpodobnost, že uvidíme něco ještě vzácnějšího než hlavní cíl"
   ]
  },
  {
   "cell_type": "markdown",
   "metadata": {},
   "source": [
    "\\\n",
    "\\\n",
    "\\\n",
    "Příklad 1: hážeme 2x mincí a chceme dvě panny:\\\n",
    "Myslím si: moje mince je super speciální, protože po dvou hodech jsem viděl 2 panny\\\n",
    "Nultá hypotéza: moje mince není odlišná od normální mince\\\n",
    "1) pravděpodobnost, že náhodná šance povede k pozorovatelnému cíli (2 panny = 0.5*0.5 = 0.25 = 25 %) ------------------------------------- složka 1: 25 % \n",
    "2) pravděpodobnost, že uvidíme něco jiného, co je stejně vzácné jako hlavní cíl (2 orli jsou stejně vzácní = 0.5*0.5 = 25 %) ------------- složka 2: 25 %\n",
    "3) pravděpodobnost, že uvidíme něco ještě vzácnějšího než hlavní cíl... může být něco vzácnějšího než 2 stejné výsledky u 2 vrhů? ne ...-- složka 3: 0 %\n",
    "pValue (2x panna, 2 vrhy mincí) = p1+p2+p3 = 0.25 + 0.25 = 0.50\\\n",
    "pValue: 0.50 > 0.05, selhali jsme v odmítnutí nulté hypotézy\\\n",
    "-> přijali jsme nultou hypotézu (naše mince není spešl)\n"
   ]
  },
  {
   "cell_type": "markdown",
   "metadata": {},
   "source": [
    "\\\n",
    "\\\n",
    "\\\n",
    "Příklad 1: hážeme 5x mincí a chceme 4 panny a 1 orla:\\\n",
    "Myslím si: moje mince je super speciální, protože po dvou hodech jsem viděl 2 panny\\\n",
    "Nultá hypotéza: i když jsem hodil 4x to samé, moje mince se od normální neliší \\\n",
    "5xP, 0xO: PPPPP ... 1 \\\n",
    "4xP, 1xO: OPPPP, POPPP, PPOPP, PPPOP, PPPPO ... 5 \\\n",
    "3xP, 2xO: OOPPP, OPOPP, OPPOP, POOOP, POOPP, POPOP, POPPO, PPOOP, PPOPO, PPPOO ... 10 \\\n",
    "2xP, 3x0 = 3xP, 2xO ... 10 \\\n",
    "1xP, 4xO = 4xP, 1xO ... 5 \\\n",
    "0xP, 5xO = 5xP, 0xO ... 1 \\\n",
    "-->  2*(1+5+10) = 32 možností (2**5)\n",
    "\n",
    "1) cíl: 5/32\n",
    "2) stejný jak cíl: 5/32\n",
    "3) vzácnější: 5xP, OxP 2*(1/32) = 2/32\n",
    "pValue(5 hodů, 4 panny) = 12/32 = 6/16 = 3/8 \\\n",
    "pValue 0.375 > 0.05, selhali jsme v odmítnutí nulté hypotézy\\\n",
    "-> přijali jsme nultou hypotézu (naše mince není spešl)\n",
    "\n"
   ]
  },
  {
   "cell_type": "markdown",
   "metadata": {},
   "source": [
    "\\\n",
    "\\\n",
    "\\\n",
    "Co je to p-hacking?\\\n",
    "1. Vybírám si vzorky tak dlouho ze svého datasetu, než jejich p-value bude nižší než 5%. Každý vzorek má totiž jinou pValue.\\\n",
    "    Léčba: metodou False Discovery Rates FDR (všechny vzorky a jejich pvalue naháži do algoritmu, a dostanu korignované pValues pro každý vzorek, mnohé vypadnou)\n",
    "    \n",
    "2. Jestliže mám pValue velmi blízko kritické hodnotě (0.05), tak mám tendenci přihazovat vzorky tak dlouho, než se dostanu pod 5% :) \\\n",
    "    Léčba: metodou Power Analysis zjistím, co je správná velikost vzorku (kolik opakování potřebuji pro úspěšné zamítnutí nulté hypotézy) ještě před zahájením experimentu"
   ]
  }
 ],
 "metadata": {
  "kernelspec": {
   "display_name": "Python 3",
   "language": "python",
   "name": "python3"
  },
  "language_info": {
   "codemirror_mode": {
    "name": "ipython",
    "version": 3
   },
   "file_extension": ".py",
   "mimetype": "text/x-python",
   "name": "python",
   "nbconvert_exporter": "python",
   "pygments_lexer": "ipython3",
   "version": "3.11.8"
  }
 },
 "nbformat": 4,
 "nbformat_minor": 2
}
