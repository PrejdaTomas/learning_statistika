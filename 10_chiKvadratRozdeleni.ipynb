{
 "cells": [
  {
   "cell_type": "markdown",
   "metadata": {},
   "source": [
    "Chí kvadrát rozdělení vezme kvadráty hodnot vzorku vybraných ze standardního normálního rozdělení.\\\n",
    "Standardní normální rozdělení je N(0,1) - mean 0, stdev 1.\n",
    "\n",
    "1 stupeň volnosti u chi-kvadrát: vezmu 1 vzorek dat\\\n",
    "<img src=\"./picture_chiSquared1.PNG\" alt=\"chi-squared\"  width=\"300\"  height=\"200\" /> \\\n",
    "\n",
    "2 stupně volnosti u chi-kvadrát: vezmu 2 vzorky dat a sečtu je, budu to mít rovnější a zároveň delší osu x kvůli sumaci \\\n",
    "<img src=\"./picture_chiSquared2.PNG\" alt=\"chi-squared\"  width=\"300\"  height=\"200\" /> \\\n",
    "\n",
    "3 stupně volnosti u chi-kvadrát: vezmu 3 vzorky dat a sečtu je, tvar se mění zároveň ještě delší osu x kvůli sumaci \\\n",
    "<img src=\"./picture_chiSquared3.PNG\" alt=\"chi-squared\"  width=\"300\"  height=\"200\" /> \\\n",
    "\n",
    "Nekonečně stupňů volnosti\n",
    "\\begin{align*}\n",
    "{x_k}^2 = \\sum_{i=1}^k{{z_k}^2}\n",
    "\\end{align*}\n",
    "\n",
    "z ... normální rozdělení\n",
    "\n",
    "\\begin{align*}\n",
    "E({x_k}^2) = k \\newline\n",
    "V({x_k}^2) = 2k\n",
    "\\end{align*}\n",
    "\n",
    "E(x2K) ... očekávaná hodnota\\\n",
    "V(x2k) ... rozptyl\n",
    "\n"
   ]
  },
  {
   "cell_type": "code",
   "execution_count": null,
   "metadata": {},
   "outputs": [],
   "source": [
    "ss"
   ]
  }
 ],
 "metadata": {
  "language_info": {
   "name": "python"
  }
 },
 "nbformat": 4,
 "nbformat_minor": 2
}
