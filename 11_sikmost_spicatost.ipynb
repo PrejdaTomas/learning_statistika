{
 "cells": [
  {
   "cell_type": "markdown",
   "metadata": {},
   "source": [
    "<bold>Šikmost</bold>\\\n",
    "<img src=\"./picture_skewness.PNG\" alt=\"Skewness\"  width=\"600\"  height=\"400\" /> \\\n",
    "Negativní Šikmost (kosost doleva):\n",
    "- nejčastější hodnota převyšuje četností průměr a medián, levý ocásek je delší\\\n",
    "- většina hodnot je většín než průměr \\\n",
    "- píkem je modus\n",
    "\n",
    "Pozitivní Šikmost (kosost doprava): \n",
    "- průměr převyšuje četností nejčastjší hodnotu a medián, pravý ocásek je delší\\\n",
    "- většina hodnot je menší než průměr\n",
    "- píkem je průměr\n",
    "\n",
    "Pearsonův koeficient Šikmosti\n",
    "\n",
    "\\begin{align*}\n",
    "\n",
    "\\end{align*}"
   ]
  },
  {
   "cell_type": "markdown",
   "metadata": {},
   "source": [
    "<bold>Špičatost</bold>\\\n",
    "Vyjadřuje jak moc vysoký je pík střední hodnoty. \\\n",
    "Pozitivní špičatost: vysoký pík \\\n",
    "Nulová špičatost: normální rozdělení \\\n",
    "Negativní špičatost: placaté rozdělení... \\\n",
    "čím nižší hodnota, tím placatější, čím vyšší, tím špičatější \\\n",
    "<img src=\"./picture_kurtosis.PNG\" alt=\"Kurtosis\"  width=\"600\"  height=\"400\" /> \\"
   ]
  }
 ],
 "metadata": {
  "kernelspec": {
   "display_name": "Python 3",
   "language": "python",
   "name": "python3"
  },
  "language_info": {
   "codemirror_mode": {
    "name": "ipython",
    "version": 3
   },
   "file_extension": ".py",
   "mimetype": "text/x-python",
   "name": "python",
   "nbconvert_exporter": "python",
   "pygments_lexer": "ipython3",
   "version": "3.11.8"
  }
 },
 "nbformat": 4,
 "nbformat_minor": 2
}
