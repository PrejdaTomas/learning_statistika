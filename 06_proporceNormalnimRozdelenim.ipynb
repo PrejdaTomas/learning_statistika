{
 "cells": [
  {
   "cell_type": "markdown",
   "metadata": {},
   "source": [
    "800 náhodně vybraných lidí bylo dotázáno, jestli mají laptop. \\\n",
    "584 vlastnictví potvrdilo. \\\n",
    "a) můžeme aproximovat binomické rozdělení normálním? \\\n",
    "b) urči přípustnou chybu odhadu a sestav 95 % interval spolehlivosti pro průměr \\\n",
    "c) jak velký musí být vzorek, abychom měli chybu do 2 % při 90% intervalu spolehlivosti?"
   ]
  },
  {
   "cell_type": "code",
   "execution_count": 19,
   "metadata": {},
   "outputs": [],
   "source": [
    "from scipy.stats import norm\n",
    "samples:    int = 800\n",
    "owners:     int = 584"
   ]
  },
  {
   "cell_type": "markdown",
   "metadata": {},
   "source": [
    "vzoreček na odhad toho, jestli mohu aproximovat:\n",
    "\\begin{align*}\n",
    "n·p·(1-p) \\ge 10 = n·p·q \\ge 10 \\newline\n",
    "\\hat{p} = \\frac{x}{n} \\newline\n",
    "n·{\\hat{p}}·(1-\\hat{p}) \\ge 10 = n·\\hat{p}·\\hat{q} \\ge 10\\newline\n",
    "\\end{align*}\n",
    "\n",
    "n ... velikost vzorku \\\n",
    "x ... členy vzorku vykazující pozitivně znak \\\n",
    "p ... proporce (procenta) populace pozitivní \\\n",
    "q ... proporce (procenta) populace negativní \\\n",
    "p^ .. proporce (procenta) vzorku pozitivní \\\n",
    "q^ .. proporce (procenta) vzorku negativní\\\n",
    "\\\n",
    "\\\n",
    "odhad velikosti populace\n",
    "\\begin{align*}\n",
    "EBP^2 = z^2 · (\\sqrt{\\frac{\\hat{p} \\hat{q}}{n}})^2  \\newline\n",
    "n = \\frac {z^2 \\hat{p} \\hat{q}}{EBP^2}\n",
    "\\end{align*}\n"
   ]
  },
  {
   "cell_type": "code",
   "execution_count": 20,
   "metadata": {},
   "outputs": [
    {
     "name": "stdout",
     "output_type": "stream",
     "text": [
      "Sample proportion with success = 73.00%\n",
      "Sample proportion with failure = 27.00%\n",
      "Can approximate binomial distribution with normal distribution, 157.68 >= 10\n",
      "\n",
      "zScore = 1.959963984540054\n",
      "Error Bound for Proportion = 0.030764255507788826\n",
      "Confidence interval = 73.00%  ±  3.08%\n",
      "Confidence interval = <69.92%  ;  76.08%>\n",
      "\n",
      "To achieve 2.00% EBP for 90.00% confidence level, we need 1334 samples\n"
     ]
    }
   ],
   "source": [
    "sampleProportionPositive: float = owners/samples\n",
    "sampleProportionNegative: float = 1-sampleProportionPositive\n",
    "print(f\"Sample proportion with success = {sampleProportionPositive:.2%}\")\n",
    "print(f\"Sample proportion with failure = {sampleProportionNegative:.2%}\")\n",
    "\n",
    "#asamples\n",
    "comparisonValueToNormlDist: float = samples*sampleProportionPositive*sampleProportionNegative\n",
    "canApproximateBinomWithNorm: bool =  comparisonValueToNormlDist >= 10\n",
    "if comparisonValueToNormlDist: print(f\"Can approximate binomial distribution with normal distribution, {comparisonValueToNormlDist} >= 10\")\n",
    "else: print(f\"Cannot approximate binomial distribution with normal distribution, {comparisonValueToNormlDist} < 10\")\n",
    "print()\n",
    "\n",
    "#b\n",
    "confidenceLevel: float = 0.95\n",
    "alphaValue_twoTailed: float = (1+confidenceLevel)/2\n",
    "zScore: float = norm.ppf(alphaValue_twoTailed)\n",
    "ErrorBoundProportion: float = zScore*(sampleProportionPositive*sampleProportionNegative/samples)**0.5\n",
    "print(f\"zScore = {zScore}\")\n",
    "print(f\"Error Bound for Proportion = {ErrorBoundProportion}\")\n",
    "print(f\"Confidence interval = {sampleProportionPositive:.2%}  ±  {ErrorBoundProportion:.2%}\" )\n",
    "print(f\"Confidence interval = <{sampleProportionPositive-ErrorBoundProportion:.2%}  ;  {sampleProportionPositive+ErrorBoundProportion:.2%}>\" )\n",
    "print()\n",
    "\n",
    "#c\n",
    "confidenceLevel: float = 0.90\n",
    "ErrorBoundProportion: float = 0.02\n",
    "alphaValue_twoTailed: float = (1+confidenceLevel)/2\n",
    "zScore: float = norm.ppf(alphaValue_twoTailed)\n",
    "sampleStdev = sampleProportionPositive*sampleProportionNegative\n",
    "samplesConfident = (zScore**2)*(sampleStdev/ErrorBoundProportion**2)\n",
    "from math import ceil\n",
    "samplesConfidentRoundedUp = ceil(samplesConfident)\n",
    "print(f\"To achieve {ErrorBoundProportion:.2%} EBP for {confidenceLevel:.2%} confidence level, we need {samplesConfidentRoundedUp} samples\")"
   ]
  },
  {
   "cell_type": "markdown",
   "metadata": {},
   "source": [
    "Určitý počet lidí v Texasu byl dotázán, jestli má dům. Odhadované pravé procento vlastníků bylo s 95% spolehlivostí odhadnuto na <0.62383 , 0.67217> \\\n",
    "a) jaká je proporce vzorku? \\\n",
    "b) urči přípustnou chybu odhadu proporce (EBP) \\\n",
    "c) kolik lidí bylo dotázáno? \\\n",
    "d) kolik jich má barák?"
   ]
  },
  {
   "cell_type": "code",
   "execution_count": 25,
   "metadata": {},
   "outputs": [
    {
     "name": "stdout",
     "output_type": "stream",
     "text": [
      "Proportion of sample with positive output = 64.80%\n",
      "\n",
      "Error Bound for Proportion = 2.42%\n",
      "\n",
      "To achieve 2.42% EBP for 95.00% confidence level, we need 1500 samples\n",
      "\n",
      "972 people from 1500 have a house\n"
     ]
    }
   ],
   "source": [
    "confidenceLevel: float = 0.95\n",
    "lEBP_bound: float = 0.62383\n",
    "rEBP_bound: float = 0.67217\n",
    "\n",
    "#a\n",
    "sampleProportionPositive: float = (rEBP_bound+lEBP_bound)/2\n",
    "sampleProportionNegative: float = 1-sampleProportionPositive\n",
    "print(f\"Proportion of sample with positive output = {sampleProportionPositive:.2%}\")\n",
    "print()\n",
    "\n",
    "#b\n",
    "ErrorBoundProportion: float = (rEBP_bound-lEBP_bound)/2\n",
    "print(f\"Error Bound for Proportion = {ErrorBoundProportion:.2%}\")\n",
    "print()\n",
    "\n",
    "#c\n",
    "alphaValue_twoTailed: float = (1+confidenceLevel)/2\n",
    "zScore: float = norm.ppf(alphaValue_twoTailed)\n",
    "sampleStdev = sampleProportionPositive*sampleProportionNegative\n",
    "samplesConfident = (zScore**2)*(sampleStdev/ErrorBoundProportion**2)\n",
    "from math import ceil, floor\n",
    "samplesConfidentRoundedUp = ceil(samplesConfident)\n",
    "print(f\"To achieve {ErrorBoundProportion:.2%} EBP for {confidenceLevel:.2%} confidence level, we need {samplesConfidentRoundedUp} samples\")\n",
    "print()\n",
    "\n",
    "#d\n",
    "withHouse: int = floor(samplesConfidentRoundedUp*sampleProportionPositive)\n",
    "print(f\"{withHouse} people from {samplesConfidentRoundedUp} have a house\")\n"
   ]
  }
 ],
 "metadata": {
  "kernelspec": {
   "display_name": "Python 3",
   "language": "python",
   "name": "python3"
  },
  "language_info": {
   "codemirror_mode": {
    "name": "ipython",
    "version": 3
   },
   "file_extension": ".py",
   "mimetype": "text/x-python",
   "name": "python",
   "nbconvert_exporter": "python",
   "pygments_lexer": "ipython3",
   "version": "3.11.8"
  }
 },
 "nbformat": 4,
 "nbformat_minor": 2
}
