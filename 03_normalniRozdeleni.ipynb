{
 "cells": [
  {
   "cell_type": "markdown",
   "metadata": {},
   "source": [
    "\\begin{align*}\n",
    "P(x) =  \\frac{1} {\\sigma \\sqrt{2\\pi}} · e^{- \\frac{1}{2}·(\\frac{x - \\mu}{\\sigma})^2}\n",
    "\\end{align*}\n",
    "\\\n",
    "mu... průměr \\\n",
    "sigma ... smodch \\\n",
    "x ... hodnota, k níž hledáme pravděpodobnost\n",
    "\n",
    "\n",
    "\\begin{align*}\n",
    "\\frac{x - \\mu}{\\sigma}\n",
    "\\end{align*}\n",
    "\n",
    "Říká, kolik smodch je hodnota x daleko od průměru a říká se ji standardní z-score"
   ]
  },
  {
   "cell_type": "markdown",
   "metadata": {},
   "source": [
    "Normální rozdělení je spojitou verzí binomického rozdělení.\n",
    "Dle větě o limitě střední hodnoty (central limit theorem), mám nějakou populaci. Když z ní budu brát stále větší a větší vzorky a budu pro ně počítat průměry, tak histogram těch průměrů dává normální rozdělení\n",
    "\n",
    "Standardní chyba vzorku je smodch populace / sqrt(počet členů vzorku)\n",
    "Standarní chyba populace je smodch populace"
   ]
  },
  {
   "cell_type": "code",
   "execution_count": 26,
   "metadata": {},
   "outputs": [
    {
     "name": "stdout",
     "output_type": "stream",
     "text": [
      "[-10.2, -7.618181818181817, -5.036363636363636, -2.454545454545455, 0.12727272727272698, 2.709090909090909, 5.290909090909089, 7.872727272727271, 10.454545454545453, 13.036363636363635, 15.618181818181817, 18.2] 12\n",
      "[[-10.2, -7.618181818181817], [-7.618181818181817, -5.036363636363636], [-5.036363636363636, -2.454545454545455], [-2.454545454545455, 0.12727272727272698], [0.12727272727272698, 2.709090909090909], [2.709090909090909, 5.290909090909089], [5.290909090909089, 7.872727272727271], [7.872727272727271, 10.454545454545453], [10.454545454545453, 13.036363636363635], [13.036363636363635, 15.618181818181817], [15.618181818181817, 18.2]] 11\n",
      "Bins [[2.709090909090909, 5.290909090909089], [5.290909090909089, 7.872727272727271], [0.12727272727272698, 2.709090909090909], [7.872727272727271, 10.454545454545453], [-2.454545454545455, 0.12727272727272698], [10.454545454545453, 13.036363636363635], [-5.036363636363636, -2.454545454545455], [13.036363636363635, 15.618181818181817], [-7.618181818181817, -5.036363636363636], [15.618181818181817, 18.2], [-10.2, -7.618181818181817]] 11\n",
      "Items [16, 15, 13, 12, 10, 9, 7, 6, 4, 3, 1]\n",
      "sum Items 100\n",
      "[[-10.2, -7.618181818181817, 1], [-7.618181818181817, -5.036363636363636, 4], [-5.036363636363636, -2.454545454545455, 7], [-2.454545454545455, 0.12727272727272698, 10], [0.12727272727272698, 2.709090909090909, 14], [2.709090909090909, 5.290909090909089, 17], [5.290909090909089, 7.872727272727271, 16], [7.872727272727271, 10.454545454545453, 13], [10.454545454545453, 13.036363636363635, 9], [13.036363636363635, 15.618181818181817, 6], [15.618181818181817, 18.2, 3]]\n",
      "[3.999999999999999, 6.58181818181818, 1.418181818181818, 9.163636363636362, -1.163636363636364, 11.745454545454544, -3.7454545454545456, 14.327272727272726, -6.327272727272726, 16.909090909090907, -8.909090909090908]\n",
      "[17, 16, 14, 13, 10, 9, 7, 6, 4, 3, 1]\n",
      "\n",
      "[-8.909090909090908, -6.327272727272726, -3.7454545454545456, -1.163636363636364, 1.418181818181818, 3.999999999999999, 6.58181818181818, 9.163636363636362, 11.745454545454544, 14.327272727272726, 16.909090909090907]\n",
      "[1, 4, 7, 10, 14, 17, 16, 13, 9, 6, 3]\n"
     ]
    },
    {
     "data": {
      "image/png": "[encoded data removed]",
      "text/plain": [
       "<Figure size 640x480 with 1 Axes>"
      ]
     },
     "metadata": {},
     "output_type": "display_data"
    }
   ],
   "source": [
    "from math import factorial as f, exp as e, pi, sqrt\n",
    "from typing import Any\n",
    "import matplotlib.pyplot as plt\n",
    "from matplotlib.figure import Figure\n",
    "from matplotlib.axes import Axes\n",
    "\n",
    "from numpy import linspace as npLinspace\n",
    "from itertools import chain as iterChain\n",
    "\n",
    "class normalDistro(object):\n",
    "    def __init__(self, mean: float, stdev: float) -> float:\n",
    "        self._mean:float = mean\n",
    "        self._stdev:float = stdev\n",
    "        self._jmenovatel:float = 1/(self.stdev*sqrt(2*pi))\n",
    "\n",
    "    @property\n",
    "    def mean(self) -> float: return self._mean\n",
    "    \n",
    "    @property\n",
    "    def stdev(self) -> float: return self._stdev\n",
    "    \n",
    "    def getZScore(self, value: float) -> float:\n",
    "        return (value-self.mean)/self.stdev\n",
    "    \n",
    "    def __call__(self, value: float) -> float:\n",
    "        _exp = e(-0.5 * self.getZScore(value)**2)\n",
    "        return self._jmenovatel*_exp\n",
    "    \n",
    "    def generatePoints(self, minVal: float, maxVal: float, bins: int = 20, count: int = 500) -> list[float]:\n",
    "        _ranges = npLinspace(minVal, maxVal, bins+1).tolist()\n",
    "        _bins: list[list[float]] = [_ranges[i:i+2] for i in range(bins)]\n",
    "        \n",
    "        _binAvgs = [sum(bin)/len(bin) for bin in _bins]\n",
    "        _zscores = [self.getZScore(binAvg)**2 for binAvg in _binAvgs]\n",
    "        _bins    = [val[0] for val in sorted(zip(_bins, _zscores), key=lambda member: member[1])]\n",
    "        print(\"Bins\", _bins, len(_bins))\n",
    "        _index  = 1\n",
    "        _weights = []\n",
    "        \n",
    "        for bin in _bins:\n",
    "            _weights.append(_index)\n",
    "            _index += 1\n",
    "        \n",
    "        _weights.sort(reverse=True)\n",
    "        _items = [int((count*_weight)/sum(_weights)) for _weight in _weights]\n",
    "        \n",
    "        _index = 0\n",
    "        while sum(_items) != count:\n",
    "            _items[_index] += 1\n",
    "            _index += 1\n",
    "            if _index == bins - 1:\n",
    "                _index = 0\n",
    "                    \n",
    "        for _index, _weight in enumerate(_items):\n",
    "            _bins[_index].append(_weight)\n",
    "        avgs        = [sum(value[:2])/2 for value in _bins]\n",
    "        _weights    =  [value[2] for value in _bins]\n",
    "        print(sorted(_bins, key= lambda x: x[0]))\n",
    "\n",
    "        zipper = sorted(list(zip(avgs, _weights)), key= lambda x: x[0])\n",
    "        avgs = [val[0] for val in zipper]\n",
    "        _weights = [val[1] for val in zipper]\n",
    "\n",
    "        plt.scatter(avgs, _weights)\n",
    "        plt.show()\n",
    "        _bins: list[float] = sorted([npLinspace(_minVal, _maxVal, _count).tolist() for _minVal, _maxVal, _count in _bins], key=lambda x: x[0])\n",
    "        #_bins: list[float] = list(iterChain(*[npLinspace(_minVal, _maxVal, _count).tolist() for _minVal, _maxVal, _count in _bins]))\n",
    "        #_bins = sorted(set(_bins))\n",
    "        return _bins\n",
    "        \n",
    "\n",
    "_xVals:list[float] = [_xi/100 for _xi in range(0,1000,10)]\n",
    "_mean:float = 5.0\n",
    "for _stdev in [_xi/100 for _xi in range(100, 400, 50)]:\n",
    "    _norm: normalDistro = normalDistro(mean=_mean,  stdev=_stdev)\n",
    "    _probs: list[float] = [_norm(_xi) for _xi in _xVals]\n",
    "    #plt.scatter(_xVals, _probs, label=f\"{_stdev}\", s= 2)\n",
    "    \n",
    "points = _norm.generatePoints(-10.2, 18.2, 11, 100)\n",
    "\n",
    "#plt.legend()\n",
    "#plt.grid()\n",
    "#plt.show()\n",
    "\n",
    "fig: Figure\n",
    "ax: Axes\n"
   ]
  }
 ],
 "metadata": {
  "kernelspec": {
   "display_name": "Python 3",
   "language": "python",
   "name": "python3"
  },
  "language_info": {
   "codemirror_mode": {
    "name": "ipython",
    "version": 3
   },
   "file_extension": ".py",
   "mimetype": "text/x-python",
   "name": "python",
   "nbconvert_exporter": "python",
   "pygments_lexer": "ipython3",
   "version": "3.11.8"
  }
 },
 "nbformat": 4,
 "nbformat_minor": 2
}
