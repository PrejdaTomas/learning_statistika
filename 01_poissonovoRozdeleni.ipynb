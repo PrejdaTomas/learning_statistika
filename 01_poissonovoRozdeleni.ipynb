{
 "cells": [
  {
   "cell_type": "markdown",
   "metadata": {},
   "source": [
    "\\begin{align*}\n",
    "\n",
    "P [X = n] =  \\frac{\\lambda^n} {n!} · e^{-\\lambda}\n",
    "\n",
    "\\end{align*}\n"
   ]
  },
  {
   "cell_type": "markdown",
   "metadata": {},
   "source": [
    "lambda ... průměrný počet výskytů jevu za sledované období"
   ]
  },
  {
   "cell_type": "markdown",
   "metadata": {},
   "source": [
    "Poissonovo rozdělení popisuje pravděpodobnost, že dojde k řídkému jevu.\n",
    "Například mám obchod a v něm přijde 100 lidí za den, mne zajímá, že v dalších 10 minutách přijdou 3 lidi, tak to je ono.\n",
    "Koukám na padající hvězdy, padají 3 hvězdy za minutu. Jaká je pravděpodobnost, že v dašlích 20 minutách spadnou 2 meteory?\n",
    "\n",
    "Něco dějící se v čase, náhodně."
   ]
  },
  {
   "cell_type": "code",
   "execution_count": 13,
   "metadata": {},
   "outputs": [],
   "source": [
    "from math import factorial as f, exp as e\n",
    "import matplotlib.pyplot as plt\n",
    "from matplotlib.figure import Figure\n",
    "from matplotlib.axes import Axes\n",
    "\n",
    "def memberProbabilityPoisson(selectedMember: int, Lambda: float) -> float:\n",
    "    citatel: float = Lambda**selectedMember\n",
    "    jmenovatel: int = f(selectedMember)\n",
    "    nasobic: float = e(-Lambda)\n",
    "    result: float = (citatel/jmenovatel)*nasobic\n",
    "    #print(selectedMember, Lambda)\n",
    "    #print(citatel, jmenovatel, nasobic, result)\n",
    "    return result\n",
    "\n"
   ]
  },
  {
   "cell_type": "markdown",
   "metadata": {},
   "source": [
    "Průměrně spadne 20 meteorů za hodinu. \\\n",
    "Jaká je pravděpodobnost, že v následujících 10 minutách spadnou 3 meteory.\n",
    "\n",
    "-> 20 met/60 min\n",
    "-> (20/6) met/10 min je lambda"
   ]
  },
  {
   "cell_type": "code",
   "execution_count": 14,
   "metadata": {},
   "outputs": [
    {
     "name": "stdout",
     "output_type": "stream",
     "text": [
      "Pravdepodobnost, ze spadne 3 meteorů za 10.0 minut je 22.02%\n"
     ]
    }
   ],
   "source": [
    "timeDuration: float = 10.\n",
    "meteorRateHourly: float = 20.\n",
    "meteorRate10min: float = meteorRateHourly/6.\n",
    "wantedMeteors: int = 3\n",
    "Lambda:float = meteorRate10min\n",
    "\n",
    "probability:float = memberProbabilityPoisson(selectedMember= wantedMeteors, Lambda=Lambda)\n",
    "print(f\"Pravdepodobnost, ze spadne {wantedMeteors} meteorů za {timeDuration} minut je {probability:.2%}\")"
   ]
  },
  {
   "cell_type": "markdown",
   "metadata": {},
   "source": [
    "Jaká je pravděpodobnost, že spadne maximálně 12 meteorů?"
   ]
  },
  {
   "cell_type": "code",
   "execution_count": 17,
   "metadata": {},
   "outputs": [
    {
     "name": "stdout",
     "output_type": "stream",
     "text": [
      "Probabilities: [0.035673993347252395, 0.11891331115750799, 0.19818885192917998, 0.2202098354768667, 0.18350819623072223, 0.12233879748714817, 0.0679659986039712, 0.03236476123998629, 0.013485317183327622, 0.0049945619197509705, 0.0016648539732503236, 0.0005045012040152495, 0.00014013922333756934, 3.593313418912035e-05, 8.55550814026675e-06, 1.9012240311703889e-06, 3.9608833982716437e-07, 7.766438035826753e-08, 1.438229265893843e-08, 2.523209238410251e-09]\n",
      "Probability for maximum of 5 meteors falling in 10.0 minutes: 75.65%\n"
     ]
    },
    {
     "name": "stderr",
     "output_type": "stream",
     "text": [
      "C:\\Users\\tomas.prejda\\AppData\\Local\\Temp\\ipykernel_17820\\3485076629.py:24: UserWarning: FigureCanvasAgg is non-interactive, and thus cannot be shown\n",
      "  fig.show()\n"
     ]
    },
    {
     "data": {
      "image/png": "[encoded data removed]",
      "text/plain": [
       "<Figure size 640x480 with 1 Axes>"
      ]
     },
     "metadata": {},
     "output_type": "display_data"
    }
   ],
   "source": [
    "timeDuration: float = 10.\n",
    "meteorRateHourly: float = 20.\n",
    "meteorRate10min: float = meteorRateHourly/6.\n",
    "wantedMeteors: int = 5\n",
    "Lambda:float = meteorRate10min\n",
    "\n",
    "probabilities:list[float] = [memberProbabilityPoisson(selectedMember= meteorIndex, Lambda=Lambda) for meteorIndex in range(int(meteorRateHourly))]\n",
    "probability_max5mets_10minutes = sum(probabilities[:wantedMeteors])\n",
    "\n",
    "print(f\"Probabilities: {probabilities}\")\n",
    "print(f\"Probability for maximum of {wantedMeteors} meteors falling in {timeDuration} minutes: {probability_max5mets_10minutes:.2%}\")\n",
    "\n",
    "fig: Figure\n",
    "axes: Axes\n",
    "\n",
    "fig, axes = plt.subplots(1,1)\n",
    "\n",
    "axes.bar(range(int(meteorRateHourly)), probabilities)\n",
    "axes.text(x=meteorRateHourly//2, y=max(probabilities)*0.8, s=f\"{probability_max5mets_10minutes:.2%}\", fontsize=20)\n",
    "axes.grid()\n",
    "axes.set_xlabel(\"fallen meteors\")\n",
    "axes.set_ylabel(f\"probability to fall in {timeDuration} min\")\n",
    "axes.set_xlim((0, meteorRateHourly))\n",
    "fig.show()"
   ]
  }
 ],
 "metadata": {
  "kernelspec": {
   "display_name": "Python 3",
   "language": "python",
   "name": "python3"
  },
  "language_info": {
   "codemirror_mode": {
    "name": "ipython",
    "version": 3
   },
   "file_extension": ".py",
   "mimetype": "text/x-python",
   "name": "python",
   "nbconvert_exporter": "python",
   "pygments_lexer": "ipython3",
   "version": "3.11.8"
  }
 },
 "nbformat": 4,
 "nbformat_minor": 2
}
