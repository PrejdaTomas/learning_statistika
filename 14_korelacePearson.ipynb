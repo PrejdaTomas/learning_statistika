{
 "cells": [
  {
   "cell_type": "markdown",
   "metadata": {},
   "source": [
    "<bold>Korelace</bold>\\\n",
    "<img src=\"./picture_correlation.PNG\" alt=\"Correlation Pearson\"  width=\"600\"  height=\"400\" /> \\\n",
    "Čím blíže k 0, tím horší korelace... korelace = 0: mezi hodnotami x a y není žádná spojitost\\\n",
    "+1: extrémně pozitivní korelace\\\n",
    "-1: extémní negativní korelace\\\n",
    "Je-li velmi vysoká p-hodnota, tak ale také korelaci nemohu příliš věřit pro své hodnoty.\\\n",
    "Není závislá na počtu dat a rozsahu dat\\\n",
    "\n",
    "Nízká p-hodnota i korelace (nezáleží na množství dat): vždy špatné\n",
    "\n",
    "\\begin{align*}\n",
    "R(x,y) = \\frac{COV(x,y)}{s_x·s_y} = \\frac{COV(x,y)}{\\sqrt{{s_x}^2}·\\sqrt{{s_y}^2}}\n",
    "\\end{align*}\n",
    "s... smodch výběru\\\n",
    "Cílem jmenovatele je normalizace na škálovaných dat kovariance na hodnoty <-1, +1>\\\n",
    "sqrt čtverců je smodch (sqrt variancí/rozptylů... kovariance / produkt smodch)\\\n",
    "\\\n",
    "\\\n",
    "Problém je, že lépe se čte než kovariance, ale pořád se čte blbě.\\\n",
    "Chci-li lépe vysvětlit, co lépe slouží k odhadu dat, R2 hodnota je lepší.\\\n",
    "R(x,y)1 = 0.9\\\n",
    "R(x,y)2 = 0.6\n",
    "\n",
    "R2(x,y)1 = 0.9*0.9 = 0.81\\\n",
    "R2(x,y)2 = 0.6*0.6 = 0.36\\\n",
    "0.81/0.36 = 2.25 -> COR(x,y)1 je o 125 % lepší korelací než COR(x,y)2\\\n",
    "\\\n",
    "Co je k čemu tedy lepší?\n",
    "- Korelace mi řekne vztah mezi dvěma nezávislými veličinami\n",
    "- R2 hodnota mi řekne, jak moc je to dobrá korelace (o kolik nižší varianci než je ta vůči průměru daná korelace má)"
   ]
  }
 ],
 "metadata": {
  "language_info": {
   "name": "python"
  }
 },
 "nbformat": 4,
 "nbformat_minor": 2
}
