{
 "cells": [
  {
   "cell_type": "markdown",
   "metadata": {},
   "source": [
    "\\begin{align*}\n",
    "\n",
    "P [X = n] =  \\binom{N}{n} p^n (1-p)^{N-n} \\newline\n",
    "\\binom{N}{n} = \\frac{N!}{n!(N-n)!}\n",
    "\\end{align*}\n"
   ]
  },
  {
   "cell_type": "markdown",
   "metadata": {},
   "source": [
    "X ... náhodná proměnná\\\n",
    "N ... počet členů vzorku\\\n",
    "n ... zvolená hodnota\\\n",
    "p ... pravděpoodobnost úspěchu"
   ]
  },
  {
   "cell_type": "markdown",
   "metadata": {},
   "source": [
    "Binomické rozdělení: diskrétní rozdělení pro N nezávislých pokusů, kde náhodná proměnná nabývá pár hodnot (třeba ano, ne) se stále stejnou pravděpodobností. Ta nemusí být 50:50, ale třeba 30:70. Nicméně je pro všechny pokusy stejná\n",
    "\n",
    "U náhodné veličiny platí: pokud rozdělím časovou osu, pravděpodobnost, že se v jednom intervalu jev stane 2x je 0. Nové instance události nezáleží na předchozích.\n",
    "\n",
    "Příklad 4.3.1.    Student VŠB Pepe má potíže s ranním vstáváním. Proto někdy zaspí a nestihne přednášku, která začíná již v 9 hodin. Pravděpodobnost, že zaspí, je 0,3. V semestru je 12 přednášek - tzn. 12 nezávislých pokusů dorazit na přednášku včas. Nalezněte pravděpodobnost, že Pepe nestihne přednášku v důsledku zaspání v polovině nebo více případů.\n",
    "\n",
    "P(X>=6) = suma (k: 6 -> 12) (12 k)*(0.3**k)*(0.7**(1-k))"
   ]
  },
  {
   "cell_type": "code",
   "execution_count": 7,
   "metadata": {},
   "outputs": [],
   "source": [
    "from math import factorial as f\n",
    "import matplotlib.pyplot as plt\n",
    "from matplotlib.figure import Figure\n",
    "from matplotlib.axes import Axes\n",
    "def combinatoryNumber(maxMembers: int, wantedMembers: int) -> int:\n",
    "    if any(not isinstance(i, int) for i in (maxMembers, wantedMembers)): raise TypeError(\"One of the arguments is not an integer\")\n",
    "    if any(i < 0 for i in (maxMembers, wantedMembers)): raise ValueError(\"One of the arguments inputted is negative, which is impossible\")\n",
    "    if (wantedMembers > maxMembers): raise ValueError(\"wantedMembers inputted > maxMembers\")\n",
    "    \n",
    "    citatel:int     = f(maxMembers)\n",
    "    jmenovatel:int  = f(wantedMembers) * f(maxMembers - wantedMembers)\n",
    "    return citatel/jmenovatel\n",
    "\n",
    "def memberProbabilityBinom(maxMembers: int, selectedMember: int, successRate: float) -> float:\n",
    "    if any(not isinstance(i, int) for i in (maxMembers, selectedMember)): raise TypeError(\"One of the arguments is not an integer\")\n",
    "    if any(i < 0 for i in (maxMembers, selectedMember)): raise ValueError(\"One of the arguments inputted is negative, which is impossible\")\n",
    "    if (selectedMember > maxMembers): raise ValueError(\"wantedMembers inputted > maxMembers\")\n",
    "    permutations: int = combinatoryNumber(maxMembers, selectedMember)\n",
    "    successProb: float = successRate**selectedMember\n",
    "    failureProb: float = (1.0-successRate)**(maxMembers-selectedMember)\n",
    "    result: float = permutations*successProb*failureProb\n",
    "    return result\n",
    "\n"
   ]
  },
  {
   "cell_type": "code",
   "execution_count": 6,
   "metadata": {},
   "outputs": [
    {
     "name": "stdout",
     "output_type": "stream",
     "text": [
      "Sleepover probabilities: [0.01384128720099999, 0.07118376274799995, 0.16779029790599986, 0.23970042557999985, 0.2311396960949999, 0.1584957916079999, 0.07924789580399996, 0.029111471927999982, 0.007797715694999996, 0.0014852791799999992, 0.00019096446599999988, 1.4880347999999992e-05]\n",
      "Probability to sleep over 6 lectures: 11.78%\n"
     ]
    },
    {
     "name": "stderr",
     "output_type": "stream",
     "text": [
      "C:\\Users\\tomas.prejda\\AppData\\Local\\Temp\\ipykernel_21616\\1448510996.py:22: UserWarning: FigureCanvasAgg is non-interactive, and thus cannot be shown\n",
      "  fig.show()\n"
     ]
    },
    {
     "data": {
      "image/png": "[encoded data removed]",
      "text/plain": [
       "<Figure size 640x480 with 1 Axes>"
      ]
     },
     "metadata": {},
     "output_type": "display_data"
    }
   ],
   "source": [
    "sleepOverProbability: float = 0.3\n",
    "lectures: int = 12\n",
    "missedExpected: int = 6\n",
    "\n",
    "sleepRates: list[float] = [memberProbabilityBinom(lectures, lecture, sleepOverProbability) for lecture in range(lectures)]\n",
    "print(f\"Sleepover probabilities: {sleepRates}\")\n",
    "\n",
    "probability_6plusLates: float = sum(sleepRates[missedExpected:])\n",
    "print(f\"Probability to sleep over {missedExpected} lectures: {probability_6plusLates:.2%}\")\n",
    "\n",
    "fig: Figure\n",
    "axes: Axes\n",
    "\n",
    "fig, axes = plt.subplots(1,1)\n",
    "\n",
    "axes.bar(range(lectures), sleepRates)\n",
    "axes.text(x=lectures//2, y=max(sleepRates)*0.8, s=f\"{probability_6plusLates:.2%}\", fontsize=20)\n",
    "axes.grid()\n",
    "axes.set_xlabel(\"missed lectures\")\n",
    "axes.set_ylabel(\"miss probability\")\n",
    "axes.set_xlim((0, lectures))\n",
    "fig.show()"
   ]
  }
 ],
 "metadata": {
  "kernelspec": {
   "display_name": "Python 3",
   "language": "python",
   "name": "python3"
  },
  "language_info": {
   "codemirror_mode": {
    "name": "ipython",
    "version": 3
   },
   "file_extension": ".py",
   "mimetype": "text/x-python",
   "name": "python",
   "nbconvert_exporter": "python",
   "pygments_lexer": "ipython3",
   "version": "3.11.8"
  }
 },
 "nbformat": 4,
 "nbformat_minor": 2
}
