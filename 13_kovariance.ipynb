{
 "cells": [
  {
   "cell_type": "markdown",
   "metadata": {},
   "source": [
    "Kovariance říká, jestli spolu souvisí výsledky závislé proměnné na nezávislých proměnných.\n",
    "\n",
    "\\begin{align*}\n",
    "COV(x,y) =  \\sum_{i=1}^n{\\frac{(x-\\bar{x})·(y-\\bar{y})}{n-1}}\n",
    "\\end{align*}\n",
    "\n",
    "Říká nám, jestli:\n",
    "- neexistuje závislost (cov = 0)\n",
    "- je kladná závislost (cov > 0)\n",
    "- je záporná závislost (cov < 0)\n",
    "\n",
    "Kovariance nám vůbec neříká, jak moc daleko jsou data od sebe, zároveň nám neříká nic o sklonu regresní přímky.\\\n",
    "Proč se tomu říká kovariance? Pokud udělám kovarianci dat s jednou nezávislou proměnnou proti sobě COV(x,x), dostanu vzoreček pro rozptyl (varianci).\\\n",
    "U kovariance je problém v interpetaci - je závislá na rozsahu hodnot na osách x,y - i když trend zůstává stejný. Například: vynásobím původní data x,y dvěma... a kovariance je najednou 4x vyšší.\\\n",
    "\n",
    "Dá se ale použít pro výpočet korelace. Ta totiž není citlivá na rozsahu dat."
   ]
  }
 ],
 "metadata": {
  "language_info": {
   "name": "python"
  }
 },
 "nbformat": 4,
 "nbformat_minor": 2
}
