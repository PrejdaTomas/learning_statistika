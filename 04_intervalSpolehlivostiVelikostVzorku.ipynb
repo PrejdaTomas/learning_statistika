{
 "cells": [
  {
   "cell_type": "markdown",
   "metadata": {},
   "source": [
    "\\begin{align*}\n",
    "CI =  \\bar{x} \\pm EBM \\newline\n",
    "EBM = z·\\frac{s}{\\sqrt{n}} = t_\\alpha (n-1) ·\\frac{s}{\\sqrt{n}} \\newline \n",
    "z = \\frac {x - \\mu} {\\sigma} \\newline\n",
    "\\end{align*}\n",
    "\\\n",
    "\\\n",
    "\n",
    "EBM     ... error bound mean (přípustná chyba odhadu) \\\n",
    "x       ... očekávaná hodnota \\\n",
    "x_      ... průměr vzorku \\\n",
    "z       ... z-score vzorku (vzdálenost od průměru v násobcích smodch)\\\n",
    "n       ... velikost vzorku \\\n",
    "s       ... smodch vzorku \\\n",
    "sigma   ... smodch populace \\\n",
    "t_alpha: .. tabulková kritická hodnota \\\n",
    "CL      ... spolehlivost \\\n",
    "alfa    ... 1 - CL = významnost \\\n",
    "\\\n",
    " \\\n",
    " \n",
    "\n"
   ]
  },
  {
   "cell_type": "markdown",
   "metadata": {},
   "source": [
    "Průměrný počet bodů ze zkouškovky z fyziky měl při 50 vzorcích hodnotu 79 odchylku 5.4, skore byla rozdělena normálně.  \\\n",
    "Jaká je velikost chyby? \\\n",
    "Najdi 95% interval spolehlivosti pro průměrnou hodnotu v celé populaci. \\\n",
    "\n",
    "Budu potřebovat Z-score, které nemám: pro normální rozdělení je tabelované. \\\n",
    "Použiji inverzní funkci kumulativní distribuční funkce normálního rozdělení ze scipy.statistics (percent point function), která má jako vstup plochu pod pdf.\n",
    "\n",
    "Předpokládáme, že používáme tzv \"two-tailed test\", tedy že interval je na 95% na obě strany, pak:\n",
    "\\begin{align*}\n",
    "A = \\frac{1-CL}{2} + CL = \\frac {1 + CL}{2} \n",
    "\\end{align*}\n",
    "\n"
   ]
  },
  {
   "cell_type": "markdown",
   "metadata": {},
   "source": [
    "Co vlastně říká ten two-tailed-test? \\\n",
    "Jen nám to říká, že chceme vzít veškerou plochu až k pravé straně intervalu spolehlivosti \\\n",
    "<img src=\"./picture_twoTailedTest.PNG\" alt=\"Two tailed test picture\"  width=\"500\"  height=\"400\" /> \\\n",
    "Máme 95% interval spolehlivosti \\\n",
    "To mimo 95% je zamítnuto \\\n",
    "Pozn.: z-hodnoty na (mu +- EBM jsou kritické hodnoty) \\\n",
    "95 % plochy je uvnitř \\\n",
    "2.5% je nalevo, 2.5% je napravo \\\n",
    "nás zajímá vše nalevo od pravého intervalu, což je součet 95 % a 2.5%, tedy 97.5%\\"
   ]
  },
  {
   "cell_type": "code",
   "execution_count": 14,
   "metadata": {},
   "outputs": [],
   "source": [
    "populationStdev: float  = 5.4\n",
    "samples:     int        = 50\n",
    "sampleMean:  int        = 79\n",
    "confidLevel:   float      = 0.95"
   ]
  },
  {
   "cell_type": "code",
   "execution_count": 15,
   "metadata": {},
   "outputs": [
    {
     "name": "stdout",
     "output_type": "stream",
     "text": [
      "zScore = 1.959963984540054\n",
      "EBM = 1.496776130297652\n",
      "CI = <79 - 1.496776130297652 ;  79 + 1.496776130297652>\n"
     ]
    }
   ],
   "source": [
    "from scipy.stats import norm\n",
    "twoTailedTest_confidenceValueArea: float = (1+confidLevel)/2\n",
    "zScore: float = norm.ppf(twoTailedTest_confidenceValueArea)\n",
    "print(f\"{zScore = }\")\n",
    "\n",
    "sampleStdError: float = populationStdev/(samples**0.5)\n",
    "ErrorBoundMean: float = zScore*sampleStdError\n",
    "print(f\"EBM = {ErrorBoundMean}\")\n",
    "\n",
    "print(f\"CI = <{sampleMean} - {ErrorBoundMean} ;  {sampleMean} + {ErrorBoundMean}>\")"
   ]
  },
  {
   "cell_type": "markdown",
   "metadata": {},
   "source": [
    "Můžeme to použít i pro zisk velikosti vzorku. \\\n",
    "\\\n",
    "\\\n",
    "Průměrné skore ve třídě bylo 84 a mělo stdev 15. Pokud velikost chyby (EBM) byla 5.367 při 95% úrovni důvěrnosti, kolik bylo studentů ve vzorku?\n",
    "\n",
    "\\begin{align*}\n",
    "EBM = z·\\frac{s}{\\sqrt{n}} \\newline\n",
    "EBM^2 = z^2·\\frac{s^2}{n} \\newline\n",
    "n =  z^2·\\frac{s^2}{EBM^2}\n",
    "\\end{align*}\n",
    "\\\n",
    "\n",
    "zscore zase vytáhnu ze scipy."
   ]
  },
  {
   "cell_type": "code",
   "execution_count": 16,
   "metadata": {},
   "outputs": [
    {
     "name": "stdout",
     "output_type": "stream",
     "text": [
      "Samples = 30.006511601502734\n"
     ]
    }
   ],
   "source": [
    "sampleMean: float = 84\n",
    "sampleStdev: float = 15\n",
    "ErrorBoundMean: float = 5.367\n",
    "confidLevel: float = 0.95\n",
    "\n",
    "twoTailedTest_confidenceValueArea: float = (1+confidLevel)/2\n",
    "zScore: float = norm.ppf(twoTailedTest_confidenceValueArea)\n",
    "samples = (zScore**2)*(sampleStdev**2)/(ErrorBoundMean**2)\n",
    "print(f\"Samples = {samples}\")"
   ]
  },
  {
   "cell_type": "markdown",
   "metadata": {},
   "source": [
    "Sally chce zjistit, a) kolik % studentů střední školy bude pokračovat na VŠ. \\\n",
    "b) S 95% úrovní důvěry a chybou 5 % (EBM= 0.05), jaká je maximální velikost vzorku, co by měla použít?\n",
    "\n",
    "Z-score zase zjistím ze scipy\n",
    "\n",
    "Smodch můžu určit jako sqrt(p*(1-p))\n",
    "My potřebujeme maximální velikost vzorku n. Iterativně (nebo logicky) tedy zjistíme, která pravděpodobnost šel x nešel nám dá největší maximum.\n",
    "Jsou to procenta.\n",
    "\n",
    "\\begin{align*}\n",
    "n =  z^2·\\frac{\\hat{p} (1 - \\hat{p})}{EBM^2}\n",
    "\\end{align*}"
   ]
  },
  {
   "cell_type": "code",
   "execution_count": 18,
   "metadata": {},
   "outputs": [
    {
     "name": "stdout",
     "output_type": "stream",
     "text": [
      "Samples = 384\n"
     ]
    }
   ],
   "source": [
    "ConfidLevel: float = 0.95\n",
    "ErrorBoundMean: float = 0.05\n",
    "twoTailedTest_confidenceValueArea: float = (1+confidLevel)/2\n",
    "Zscore: float  = norm.ppf(twoTailedTest_confidenceValueArea)\n",
    "\n",
    "percentages: list[float] = [i/100 for i in range(101)]\n",
    "probabilityScores: list[float] = [(percentage, (percentage)*(1-percentage)) for percentage in percentages]\n",
    "products: list[float] = [product for percentage,product in probabilityScores]\n",
    "maximumProbability: float = probabilityScores[products.index(max(products))][0] #to je smodch pro \n",
    "\n",
    "samples = (zScore**2)*(maximumProbability)*(1-maximumProbability)/(ErrorBoundMean**2)\n",
    "print(f\"Samples = {int(samples)}\")"
   ]
  }
 ],
 "metadata": {
  "kernelspec": {
   "display_name": "Python 3",
   "language": "python",
   "name": "python3"
  },
  "language_info": {
   "codemirror_mode": {
    "name": "ipython",
    "version": 3
   },
   "file_extension": ".py",
   "mimetype": "text/x-python",
   "name": "python",
   "nbconvert_exporter": "python",
   "pygments_lexer": "ipython3",
   "version": "3.11.8"
  }
 },
 "nbformat": 4,
 "nbformat_minor": 2
}
