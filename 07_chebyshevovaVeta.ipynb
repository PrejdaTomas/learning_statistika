{
 "cells": [
  {
   "cell_type": "markdown",
   "metadata": {},
   "source": [
    "Čebyševova věta říká, jaká minimální proporce dat je uvnitř K smodch průměru\\\n",
    "Platí pro jakoukoliv distribuci, akorát data musí být dostatečně daleko od průměru.\n",
    "\n",
    "\\begin{align*}\n",
    "\\hat{p_{\\bar{x} \\pm K·s}} = 1 - \\frac{1}{K^2} \\newline\n",
    "K > 1\n",
    "\\end{align*} \n"
   ]
  },
  {
   "cell_type": "markdown",
   "metadata": {},
   "source": [
    "Průměrná výška lidí v Prdelau je 80 kg se smodch 5 kg.\\\n",
    "a) jaká je minimální proporce lidí s váhou mezi 70 a 90 kg? \\\n",
    "b) pokud by město mělo 200 000 lidí, kolik minimálně lidí má váhu mezi 60 a 100 kg?"
   ]
  },
  {
   "cell_type": "code",
   "execution_count": 6,
   "metadata": {},
   "outputs": [
    {
     "name": "stdout",
     "output_type": "stream",
     "text": [
      "We can use the chebyshev, K(2.0) > 1\n",
      "At least 75.00% have their weight in <70, 90> kg\n",
      "\n",
      "We can use the chebyshev, K(4.0) > 1\n",
      "At least 93.75% of population has its weight in <60, 100> kg\n",
      "At least 187500 people have their weight in <60, 100> kg\n",
      "\n"
     ]
    }
   ],
   "source": [
    "from scipy.stats import norm\n",
    "\n",
    "populationMeanWeight: int = 80\n",
    "populationStdev: int = 5\n",
    "\n",
    "#a\n",
    "lEBM_bound: int = 70\n",
    "rEBM_bound: int = 90\n",
    "ErrorBoundMean: float = int((rEBM_bound-lEBM_bound)/2)\n",
    "stdevMultiple: float = ErrorBoundMean/populationStdev\n",
    "canUseChebyshev: bool = stdevMultiple > 1\n",
    "if canUseChebyshev: print(f\"We can use the chebyshev, K({stdevMultiple}) > 1\")\n",
    "else: print(f\"We cannot use the chebyshev, K({stdevMultiple}) <= 1\")\n",
    "\n",
    "if canUseChebyshev:\n",
    "    proportion: float = 1 - 1/(stdevMultiple**2)\n",
    "    print(f\"At least {proportion:.2%} have their weight in <{lEBM_bound}, {rEBM_bound}> kg\")\n",
    "print()\n",
    "\n",
    "#b\n",
    "populationSize: int = 200_000\n",
    "lEBM_bound: int = 60\n",
    "rEBM_bound: int = 100\n",
    "ErrorBoundMean: float = int((rEBM_bound-lEBM_bound)/2)\n",
    "stdevMultiple: float = ErrorBoundMean/populationStdev\n",
    "canUseChebyshev: bool = stdevMultiple > 1\n",
    "if canUseChebyshev: print(f\"We can use the chebyshev, K({stdevMultiple}) > 1\")\n",
    "else: print(f\"We cannot use the chebyshev, K({stdevMultiple}) <= 1\")\n",
    "\n",
    "if canUseChebyshev:\n",
    "    from math import floor, ceil\n",
    "    proportion: float = 1 - 1/(stdevMultiple**2)\n",
    "    print(f\"At least {proportion:.2%} of population has its weight in <{lEBM_bound}, {rEBM_bound}> kg\")\n",
    "    positivePeople: int = floor(proportion*populationSize)\n",
    "    print(f\"At least {positivePeople} people have their weight in <{lEBM_bound}, {rEBM_bound}> kg\")\n",
    "print()\n",
    "\n"
   ]
  }
 ],
 "metadata": {
  "kernelspec": {
   "display_name": "Python 3",
   "language": "python",
   "name": "python3"
  },
  "language_info": {
   "codemirror_mode": {
    "name": "ipython",
    "version": 3
   },
   "file_extension": ".py",
   "mimetype": "text/x-python",
   "name": "python",
   "nbconvert_exporter": "python",
   "pygments_lexer": "ipython3",
   "version": "3.11.8"
  }
 },
 "nbformat": 4,
 "nbformat_minor": 2
}
