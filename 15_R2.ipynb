{
 "cells": [
  {
   "cell_type": "markdown",
   "metadata": {},
   "source": [
    "<bold>R2 hodnota</bold>\\\n",
    "Je to poměr: součin (variance vůči průměru (rozptyl) a variance vůči regresní křivce) dělený variancí vůči průměru (rozptylem)\n",
    "\\begin{align*}\n",
    "R^2 = \\frac{s^2 - {s(reg)}^2}{s^2} = \\frac{\\sum_{i=1}^n{(x_i-\\bar{x})} - \\sum_{i=1}^n{(x_i-{x_i}_{reg})}}{\\sum_{i=1}^n{(x_i-\\bar{x})}}\n",
    "\\end{align*}\n",
    "\n",
    "Co to vlastně říká? Výsledkem je procento: na regresní přímce/křivce je o R2 menší variace, než vůči průměru.\\\n",
    "Tedy čím je R2 nižší, tím horší je regrese a tím menší má smysl ji používat namísto průměru\\\n",
    "\\\n",
    "R je korelace."
   ]
  }
 ],
 "metadata": {
  "language_info": {
   "name": "python"
  }
 },
 "nbformat": 4,
 "nbformat_minor": 2
}
