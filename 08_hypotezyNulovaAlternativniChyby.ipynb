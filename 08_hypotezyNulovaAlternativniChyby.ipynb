{
 "cells": [
  {
   "cell_type": "markdown",
   "metadata": {},
   "source": [
    "- Nulová hypotéza (H_0) je tvrzením, je to přijatou hodnotou, kterou většina považuje za pravdu.\n",
    "- Alternativní hypotéza (H_A) je opačným tvrzením, které vyzývá nulovou hypotézu.\n",
    "\\\n",
    "Obě hypotézy  jsou odvislé od toho, jestli pracujeme s průměrem, nebo procenty."
   ]
  },
  {
   "cell_type": "markdown",
   "metadata": {},
   "source": [
    "1. Texas Instruments vyrábí kalkulačky, o kterých tvrdí, že mají 450 g. Josef tomu ale nevěří a tak si jich 50 vybere a zváží. Prohlaš nulovou a alternativní hypotézu.\n",
    "\n",
    "    \\begin{align*}\n",
    "    H_0: \\mu = 450 g \\newline\n",
    "    H_A: \\mu \\ne 450 g\n",
    "    \\end{align*}\n",
    "\n",
    "2. Učitel na střední škole věří, že ALESPOŇ 80 % žáků nastoupí na střední školu dokončí. Student tomu nevěří a rozhodne se tuto hypotézu otestovat. Prohlaš nulovou a alternativní hypotézu.\n",
    "\n",
    "    \\begin{align*}\n",
    "    H_0: p = 80\\% \\newline\n",
    "    H_A: p \\ne 80\\%\n",
    "    \\end{align*}\n",
    "\n",
    "3. Učitel si přeje otestovat, jestli průměrná známka z matematiky je ODLIŠNÁ k 2.7... Prohlaš nulovou a alternativní hypotézu (jestliže to chce učitel testovat, tak asi lidé věří 2.7, proto je to hypotéza a ne alternativní hypotéza)\n",
    "   \n",
    "    \\begin{align*}\n",
    "    H_0: \\mu = 2.7 \\newline\n",
    "    H_A: \\mu \\ne 2.7\n",
    "    \\end{align*}\n",
    "\n"
   ]
  },
  {
   "cell_type": "markdown",
   "metadata": {},
   "source": [
    "\\\n",
    "\\"
   ]
  },
  {
   "cell_type": "markdown",
   "metadata": {},
   "source": [
    "K hypotézám se váží dva typy chyb:\n",
    "1. typ: odmítnutí nulové hypotézy, i když je pravdivá\n",
    "2. typ: neodmítnutí nulové hypotézy, i když není pravdivá\n",
    "\\\n",
    "\n",
    "Pravděpodobnost, že zamítnu správnou nultou hypotézu: P(H0 == True): alfa ........ pravděpodobnost chyby prvního typu)\\\n",
    "Pravděpodobnost, že nezamítnu nesprávnou nultou hypotézu: P(H0 == False): beta.....(pravděpodobnost chyby druhého typu) \\\n",
    "Pravděpodobnost, že zamítnu nesprávnou nultou hypotézu: 1 - beta .......(jinak se tomu říká síla testu)\n",
    "\\\n",
    "<img src=\"./picture_errorTypes.PNG\" alt=\"error types\"  width=\"500\"  height=\"400\" />\n",
    "\\\n",
    "\\\n",
    "\\\n",
    "\n"
   ]
  },
  {
   "cell_type": "markdown",
   "metadata": {},
   "source": [
    "Řekněme, že nulovou hypotézou je, že Frantovo auto je bezpečné. Mějme níže pár tvrzení.\n",
    "1. Franta si myslí, že auto je bezpečné, i když není bezpečné (fail), 2\n",
    "2. Franta si myslí, že auto je bezpečné, i když je bezpečné (ok)\n",
    "3. Franta si myslí, že auto není bezpečné, i když není bezpečné (ok)\n",
    "4. Franta si myslí, že auto není bezpečné, i když je bezpečné (fail), 1\\\n",
    "[H0: auto je bezpečné]\n",
    "\n",
    "- 1. typ: odmítnutí nulové hypotézy, i když je pravdivá\n",
    "- 2. typ: neodmítnutí nulové hypotézy, i když není pravdivá\\\n",
    "- a) které z tvrzení níže je chybou prvního typu? --> 4, zamítl bezpečnost auta, i když všichni ví, že je bezpečné\n",
    "- b) které z tvrzení níže je chybou druhého typu? --> 1, přijal bezpečnost auta, i když je nebezpečné\n",
    "- c) které tvrzení má větší dopad? -> tvrzení 1, chyba 2. typu\n"
   ]
  },
  {
   "cell_type": "markdown",
   "metadata": {},
   "source": [
    "Jsme u soudu. Řekněme, že nulovou hypotézou je, že obžalovaný je nevinný. Mějme níže pár tvrzení.\n",
    "1. Sourdce si myslí, že obžalovaný je vinný, i když je nevinný (fail)\n",
    "2. Soudce si myslí, že obžalovaný je vinný, i když není nevinný (ok)\n",
    "3. Soudce si myslí, že obžalovaný není vinný, i když není nevinný (fail)\n",
    "4. Sourdce si myslí, že obžalovanný není vinný, i když je nevinný (ok)\\\n",
    "[H0: obžalovaný je nevinný]\n",
    "- 1. typ: odmítnutí nulové hypotézy, i když je pravdivá\n",
    "- 2. typ: neodmítnutí nulové hypotézy, i když není pravdivá\\\n",
    "\n",
    "- a) které z tvrzení níže je chybou prvního typu? --> 1\n",
    "- b) které z tvrzení níže je chybou druhého typu? --> 3\n",
    "- c) které tvrzení má větší dopad? -> ha, těžko soudit, buď bude vraždit, nebo bude zavražděn. Asi 3, druhý typ\n",
    "\\\n",
    "\\\n",
    "\\\n",
    "\\"
   ]
  },
  {
   "cell_type": "markdown",
   "metadata": {},
   "source": [
    "Firma vyrábí oplatky a tvrdí, že mají 50 gramů. Zákazník tvrdí, že to není pravda.\n",
    "\n",
    "\\begin{align*}\n",
    "\n",
    "H_0: \\mu = 50 g \\newline \n",
    "H_A: \\mu \\ne 50 g \n",
    "\\end{align*}\n",
    "\n",
    "Kdykoliv alternativní hypotéza má not-equal tvrzení, je to two-tailed test."
   ]
  }
 ],
 "metadata": {
  "kernelspec": {
   "display_name": "Python 3",
   "language": "python",
   "name": "python3"
  },
  "language_info": {
   "codemirror_mode": {
    "name": "ipython",
    "version": 3
   },
   "file_extension": ".py",
   "mimetype": "text/x-python",
   "name": "python",
   "nbconvert_exporter": "python",
   "pygments_lexer": "ipython3",
   "version": "3.11.8"
  }
 },
 "nbformat": 4,
 "nbformat_minor": 2
}
